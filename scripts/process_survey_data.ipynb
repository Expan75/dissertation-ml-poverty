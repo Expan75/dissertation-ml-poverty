{
 "cells": [
  {
   "cell_type": "markdown",
   "metadata": {},
   "source": [
    "Make sure you download the 2016-2017 Household LSMS survey data for Malawi from https://microdata.worldbank.org/index.php/catalog/lsms. It should be in `../countries/malawi_2016/LSMS/`"
   ]
  },
  {
   "cell_type": "code",
   "execution_count": 10,
   "metadata": {},
   "outputs": [],
   "source": [
    "import pandas as pd\n",
    "import numpy as np\n",
    "import os"
   ]
  },
  {
   "cell_type": "code",
   "execution_count": 11,
   "metadata": {},
   "outputs": [],
   "source": [
    "BASE_DIR = '..'\n",
    "NIGHTLIGHTS_DIR = os.path.join(BASE_DIR, 'data/Nightlights/2013/F182013.v4c_web.stable_lights.avg_vis.tif')\n",
    "COUNTRY = 'malawi_2016'\n",
    "\n",
    "COUNTRY_DIR = os.path.join(BASE_DIR, 'countries', COUNTRY)\n",
    "LSMS_DIR = os.path.join(COUNTRY_DIR, 'LSMS')"
   ]
  },
  {
   "cell_type": "code",
   "execution_count": 12,
   "metadata": {},
   "outputs": [],
   "source": [
    "# these vary from one LSMS survey to another\n",
    "CONSUMPTION_FILE = 'IHS4 Consumption Aggregate.dta'\n",
    "CONSUMPTION_PH_COL = 'rexpagg' # per household\n",
    "CONSUMPTION_PC_COL = 'rexpaggpc' # per capita\n",
    "\n",
    "GEOLOCATION_FILE = 'HouseholdGeovariables_stata11/HouseholdGeovariablesIHS4.dta'\n",
    "LATITUDE_COL = 'lat_modified'\n",
    "LONGITUDE_COL = 'lon_modified'\n",
    "\n",
    "# purchasing power parity for malawi in 2016 (https://data.worldbank.org/indicator/PA.NUS.PRVT.PP?locations=MW)\n",
    "PPP = 207.238"
   ]
  },
  {
   "cell_type": "code",
   "execution_count": 13,
   "metadata": {},
   "outputs": [],
   "source": [
    "for file in [CONSUMPTION_FILE, GEOLOCATION_FILE]:\n",
    "    assert os.path.isfile(os.path.join(LSMS_DIR, file)), print(f'Could not find {file}')"
   ]
  },
  {
   "cell_type": "code",
   "execution_count": 14,
   "metadata": {},
   "outputs": [
    {
     "name": "stderr",
     "output_type": "stream",
     "text": [
      "/Users/Erik/opt/anaconda3/envs/gdal/lib/python3.7/site-packages/pandas/core/frame.py:4133: SettingWithCopyWarning: \n",
      "A value is trying to be set on a copy of a slice from a DataFrame\n",
      "\n",
      "See the caveats in the documentation: https://pandas.pydata.org/pandas-docs/stable/user_guide/indexing.html#returning-a-view-versus-a-copy\n",
      "  errors=errors,\n"
     ]
    }
   ],
   "source": [
    "df = pd.read_stata(os.path.join(LSMS_DIR, CONSUMPTION_FILE))\n",
    "df['cons_ph'] = df[CONSUMPTION_PH_COL]\n",
    "df['cons_pc'] = df[CONSUMPTION_PC_COL]\n",
    "df['people_in_household'] = (df['cons_ph'] / df['cons_pc'])\n",
    "df['cons_ph'] = df['cons_ph'] / PPP / 365\n",
    "df = df[['case_id', 'cons_ph', 'people_in_household']]\n",
    "\n",
    "df_geo = pd.read_stata(os.path.join(LSMS_DIR, GEOLOCATION_FILE))\n",
    "df_cords = df_geo[['case_id', 'HHID', LATITUDE_COL, LONGITUDE_COL]]\n",
    "df_cords.rename(columns={LATITUDE_COL: 'lat', LONGITUDE_COL: 'lon'}, inplace=True)"
   ]
  },
  {
   "cell_type": "code",
   "execution_count": 15,
   "metadata": {},
   "outputs": [],
   "source": [
    "df_combined = pd.merge(df, df_cords, on='case_id')"
   ]
  },
  {
   "cell_type": "code",
   "execution_count": 16,
   "metadata": {},
   "outputs": [
    {
     "data": {
      "text/html": [
       "<div>\n",
       "<style scoped>\n",
       "    .dataframe tbody tr th:only-of-type {\n",
       "        vertical-align: middle;\n",
       "    }\n",
       "\n",
       "    .dataframe tbody tr th {\n",
       "        vertical-align: top;\n",
       "    }\n",
       "\n",
       "    .dataframe thead th {\n",
       "        text-align: right;\n",
       "    }\n",
       "</style>\n",
       "<table border=\"1\" class=\"dataframe\">\n",
       "  <thead>\n",
       "    <tr style=\"text-align: right;\">\n",
       "      <th></th>\n",
       "      <th>case_id</th>\n",
       "      <th>cons_ph</th>\n",
       "      <th>people_in_household</th>\n",
       "      <th>HHID</th>\n",
       "      <th>lat</th>\n",
       "      <th>lon</th>\n",
       "    </tr>\n",
       "  </thead>\n",
       "  <tbody>\n",
       "    <tr>\n",
       "      <th>0</th>\n",
       "      <td>301025230225</td>\n",
       "      <td>3.935405</td>\n",
       "      <td>3.0</td>\n",
       "      <td>0001c970eecf473099368557e2080b3e</td>\n",
       "      <td>-14.683761</td>\n",
       "      <td>34.915074</td>\n",
       "    </tr>\n",
       "    <tr>\n",
       "      <th>1</th>\n",
       "      <td>210374850204</td>\n",
       "      <td>22.901846</td>\n",
       "      <td>5.0</td>\n",
       "      <td>000509f5cfcc4b078a09672b09425e95</td>\n",
       "      <td>-14.005029</td>\n",
       "      <td>33.794591</td>\n",
       "    </tr>\n",
       "    <tr>\n",
       "      <th>2</th>\n",
       "      <td>311057710075</td>\n",
       "      <td>6.183800</td>\n",
       "      <td>5.0</td>\n",
       "      <td>000bc107780044e59327dbf7ec960ac1</td>\n",
       "      <td>-16.826165</td>\n",
       "      <td>35.269503</td>\n",
       "    </tr>\n",
       "    <tr>\n",
       "      <th>3</th>\n",
       "      <td>312048040073</td>\n",
       "      <td>5.111379</td>\n",
       "      <td>5.0</td>\n",
       "      <td>000d1d26325d4f73a2ffbb8a99ab4752</td>\n",
       "      <td>-15.004730</td>\n",
       "      <td>35.163219</td>\n",
       "    </tr>\n",
       "    <tr>\n",
       "      <th>4</th>\n",
       "      <td>311097790117</td>\n",
       "      <td>10.988404</td>\n",
       "      <td>7.0</td>\n",
       "      <td>00104e33315844fdb2b8c6fdd35912a1</td>\n",
       "      <td>-17.016698</td>\n",
       "      <td>35.079629</td>\n",
       "    </tr>\n",
       "  </tbody>\n",
       "</table>\n",
       "</div>"
      ],
      "text/plain": [
       "        case_id    cons_ph  people_in_household  \\\n",
       "0  301025230225   3.935405                  3.0   \n",
       "1  210374850204  22.901846                  5.0   \n",
       "2  311057710075   6.183800                  5.0   \n",
       "3  312048040073   5.111379                  5.0   \n",
       "4  311097790117  10.988404                  7.0   \n",
       "\n",
       "                               HHID        lat        lon  \n",
       "0  0001c970eecf473099368557e2080b3e -14.683761  34.915074  \n",
       "1  000509f5cfcc4b078a09672b09425e95 -14.005029  33.794591  \n",
       "2  000bc107780044e59327dbf7ec960ac1 -16.826165  35.269503  \n",
       "3  000d1d26325d4f73a2ffbb8a99ab4752 -15.004730  35.163219  \n",
       "4  00104e33315844fdb2b8c6fdd35912a1 -17.016698  35.079629  "
      ]
     },
     "execution_count": 16,
     "metadata": {},
     "output_type": "execute_result"
    }
   ],
   "source": [
    "df_combined.head()"
   ]
  },
  {
   "cell_type": "code",
   "execution_count": 17,
   "metadata": {},
   "outputs": [],
   "source": [
    "df_combined.drop(['case_id', 'HHID'], axis=1, inplace=True)"
   ]
  },
  {
   "cell_type": "code",
   "execution_count": 18,
   "metadata": {},
   "outputs": [
    {
     "data": {
      "text/html": [
       "<div>\n",
       "<style scoped>\n",
       "    .dataframe tbody tr th:only-of-type {\n",
       "        vertical-align: middle;\n",
       "    }\n",
       "\n",
       "    .dataframe tbody tr th {\n",
       "        vertical-align: top;\n",
       "    }\n",
       "\n",
       "    .dataframe thead th {\n",
       "        text-align: right;\n",
       "    }\n",
       "</style>\n",
       "<table border=\"1\" class=\"dataframe\">\n",
       "  <thead>\n",
       "    <tr style=\"text-align: right;\">\n",
       "      <th></th>\n",
       "      <th>cons_ph</th>\n",
       "      <th>people_in_household</th>\n",
       "      <th>lat</th>\n",
       "      <th>lon</th>\n",
       "    </tr>\n",
       "  </thead>\n",
       "  <tbody>\n",
       "    <tr>\n",
       "      <th>0</th>\n",
       "      <td>3.935405</td>\n",
       "      <td>3.0</td>\n",
       "      <td>-14.683761</td>\n",
       "      <td>34.915074</td>\n",
       "    </tr>\n",
       "    <tr>\n",
       "      <th>1</th>\n",
       "      <td>22.901846</td>\n",
       "      <td>5.0</td>\n",
       "      <td>-14.005029</td>\n",
       "      <td>33.794591</td>\n",
       "    </tr>\n",
       "    <tr>\n",
       "      <th>2</th>\n",
       "      <td>6.183800</td>\n",
       "      <td>5.0</td>\n",
       "      <td>-16.826165</td>\n",
       "      <td>35.269503</td>\n",
       "    </tr>\n",
       "    <tr>\n",
       "      <th>3</th>\n",
       "      <td>5.111379</td>\n",
       "      <td>5.0</td>\n",
       "      <td>-15.004730</td>\n",
       "      <td>35.163219</td>\n",
       "    </tr>\n",
       "    <tr>\n",
       "      <th>4</th>\n",
       "      <td>10.988404</td>\n",
       "      <td>7.0</td>\n",
       "      <td>-17.016698</td>\n",
       "      <td>35.079629</td>\n",
       "    </tr>\n",
       "  </tbody>\n",
       "</table>\n",
       "</div>"
      ],
      "text/plain": [
       "     cons_ph  people_in_household        lat        lon\n",
       "0   3.935405                  3.0 -14.683761  34.915074\n",
       "1  22.901846                  5.0 -14.005029  33.794591\n",
       "2   6.183800                  5.0 -16.826165  35.269503\n",
       "3   5.111379                  5.0 -15.004730  35.163219\n",
       "4  10.988404                  7.0 -17.016698  35.079629"
      ]
     },
     "execution_count": 18,
     "metadata": {},
     "output_type": "execute_result"
    }
   ],
   "source": [
    "df_combined.dropna(inplace=True) # can't use na values\n",
    "df_combined.head()"
   ]
  },
  {
   "cell_type": "code",
   "execution_count": 19,
   "metadata": {},
   "outputs": [
    {
     "data": {
      "text/plain": [
       "(12444, 4)"
      ]
     },
     "execution_count": 19,
     "metadata": {},
     "output_type": "execute_result"
    }
   ],
   "source": [
    "df_combined.shape"
   ]
  },
  {
   "cell_type": "markdown",
   "metadata": {},
   "source": [
    "Jean et al makes a minor mistake in computing per capita consumption. Even though the LSMS documentation says `rexpagg` is per capita, `rexpaggpc` is actually the per capita value. `rexpagg` is the household consumption. We can compute per capita consumption in a cluster by summing up `rexpagg` in a cluster and dividing by the number of people in the cluster (that were surveyed)."
   ]
  },
  {
   "cell_type": "code",
   "execution_count": 20,
   "metadata": {},
   "outputs": [],
   "source": [
    "df_clusters = df_combined.groupby(['lat', 'lon']).sum().reset_index()\n",
    "df_clusters['cons_pc'] = df_clusters['cons_ph'] / df_clusters['people_in_household']\n",
    "df_clusters.drop(['cons_ph', 'people_in_household'], axis=1, inplace=True)"
   ]
  },
  {
   "cell_type": "code",
   "execution_count": 21,
   "metadata": {},
   "outputs": [
    {
     "data": {
      "text/html": [
       "<div>\n",
       "<style scoped>\n",
       "    .dataframe tbody tr th:only-of-type {\n",
       "        vertical-align: middle;\n",
       "    }\n",
       "\n",
       "    .dataframe tbody tr th {\n",
       "        vertical-align: top;\n",
       "    }\n",
       "\n",
       "    .dataframe thead th {\n",
       "        text-align: right;\n",
       "    }\n",
       "</style>\n",
       "<table border=\"1\" class=\"dataframe\">\n",
       "  <thead>\n",
       "    <tr style=\"text-align: right;\">\n",
       "      <th></th>\n",
       "      <th>lat</th>\n",
       "      <th>lon</th>\n",
       "      <th>cons_pc</th>\n",
       "    </tr>\n",
       "  </thead>\n",
       "  <tbody>\n",
       "    <tr>\n",
       "      <th>0</th>\n",
       "      <td>-17.095150</td>\n",
       "      <td>35.217213</td>\n",
       "      <td>1.477796</td>\n",
       "    </tr>\n",
       "    <tr>\n",
       "      <th>1</th>\n",
       "      <td>-17.092351</td>\n",
       "      <td>35.114643</td>\n",
       "      <td>1.314741</td>\n",
       "    </tr>\n",
       "    <tr>\n",
       "      <th>2</th>\n",
       "      <td>-17.016698</td>\n",
       "      <td>35.079629</td>\n",
       "      <td>1.626932</td>\n",
       "    </tr>\n",
       "    <tr>\n",
       "      <th>3</th>\n",
       "      <td>-16.977243</td>\n",
       "      <td>35.205706</td>\n",
       "      <td>1.733232</td>\n",
       "    </tr>\n",
       "    <tr>\n",
       "      <th>4</th>\n",
       "      <td>-16.956385</td>\n",
       "      <td>35.168967</td>\n",
       "      <td>1.131669</td>\n",
       "    </tr>\n",
       "  </tbody>\n",
       "</table>\n",
       "</div>"
      ],
      "text/plain": [
       "         lat        lon   cons_pc\n",
       "0 -17.095150  35.217213  1.477796\n",
       "1 -17.092351  35.114643  1.314741\n",
       "2 -17.016698  35.079629  1.626932\n",
       "3 -16.977243  35.205706  1.733232\n",
       "4 -16.956385  35.168967  1.131669"
      ]
     },
     "execution_count": 21,
     "metadata": {},
     "output_type": "execute_result"
    }
   ],
   "source": [
    "df_clusters.head()"
   ]
  },
  {
   "cell_type": "code",
   "execution_count": 22,
   "metadata": {},
   "outputs": [
    {
     "data": {
      "text/plain": [
       "(780, 3)"
      ]
     },
     "execution_count": 22,
     "metadata": {},
     "output_type": "execute_result"
    }
   ],
   "source": [
    "df_clusters.shape"
   ]
  },
  {
   "cell_type": "markdown",
   "metadata": {},
   "source": [
    "This shows how we can use the downloaded nightlight data to get the nightlights value at these cluster points."
   ]
  },
  {
   "cell_type": "code",
   "execution_count": 23,
   "metadata": {},
   "outputs": [],
   "source": [
    "import geoio\n",
    "img = geoio.GeoImage(NIGHTLIGHTS_DIR)\n",
    "# pass lon then lat\n",
    "xPixel, yPixel = img.proj_to_raster(34.915074, -14.683761)"
   ]
  },
  {
   "cell_type": "code",
   "execution_count": 24,
   "metadata": {},
   "outputs": [
    {
     "data": {
      "text/plain": [
       "(25790.308983159237, 10762.551363048204)"
      ]
     },
     "execution_count": 24,
     "metadata": {},
     "output_type": "execute_result"
    }
   ],
   "source": [
    "xPixel, yPixel"
   ]
  },
  {
   "cell_type": "code",
   "execution_count": 25,
   "metadata": {},
   "outputs": [
    {
     "data": {
      "text/plain": [
       "(16801, 43201)"
      ]
     },
     "execution_count": 25,
     "metadata": {},
     "output_type": "execute_result"
    }
   ],
   "source": [
    "im_array = np.squeeze(img.get_data())\n",
    "im_array.shape"
   ]
  },
  {
   "cell_type": "code",
   "execution_count": 26,
   "metadata": {},
   "outputs": [
    {
     "data": {
      "text/plain": [
       "0"
      ]
     },
     "execution_count": 26,
     "metadata": {},
     "output_type": "execute_result"
    }
   ],
   "source": [
    "im_array[int(yPixel),int(xPixel)] # this is the nightlight value at the given coordinate"
   ]
  },
  {
   "cell_type": "code",
   "execution_count": 27,
   "metadata": {},
   "outputs": [],
   "source": [
    "import math\n",
    "\n",
    "def create_space(lat, lon, s=10):\n",
    "    \"\"\"Creates a s km x s km square centered on (lat, lon)\"\"\"\n",
    "    v = (180/math.pi)*(500/6378137)*s # roughly 0.045 for s=10\n",
    "    return lat - v, lon - v, lat + v, lon + v"
   ]
  },
  {
   "cell_type": "code",
   "execution_count": 28,
   "metadata": {},
   "outputs": [],
   "source": [
    "cluster_nightlights = []\n",
    "for i,r in df_clusters.iterrows():\n",
    "    min_lat, min_lon, max_lat, max_lon = create_space(r.lat, r.lon)\n",
    "    xminPixel, yminPixel = img.proj_to_raster(min_lon, min_lat)\n",
    "    xmaxPixel, ymaxPixel = img.proj_to_raster(max_lon, max_lat)\n",
    "    \n",
    "    xminPixel, xmaxPixel = min(xminPixel, xmaxPixel), max(xminPixel, xmaxPixel)\n",
    "    yminPixel, ymaxPixel = min(yminPixel, ymaxPixel), max(yminPixel, ymaxPixel)\n",
    "    \n",
    "    xminPixel, yminPixel, xmaxPixel, ymaxPixel = int(xminPixel), int(yminPixel), int(xmaxPixel), int(ymaxPixel)\n",
    "    cluster_nightlights.append(im_array[yminPixel:ymaxPixel,xminPixel:xmaxPixel].mean())"
   ]
  },
  {
   "cell_type": "code",
   "execution_count": 29,
   "metadata": {},
   "outputs": [],
   "source": [
    "df_clusters['nightlights'] = cluster_nightlights"
   ]
  },
  {
   "cell_type": "code",
   "execution_count": 30,
   "metadata": {},
   "outputs": [
    {
     "data": {
      "text/html": [
       "<div>\n",
       "<style scoped>\n",
       "    .dataframe tbody tr th:only-of-type {\n",
       "        vertical-align: middle;\n",
       "    }\n",
       "\n",
       "    .dataframe tbody tr th {\n",
       "        vertical-align: top;\n",
       "    }\n",
       "\n",
       "    .dataframe thead th {\n",
       "        text-align: right;\n",
       "    }\n",
       "</style>\n",
       "<table border=\"1\" class=\"dataframe\">\n",
       "  <thead>\n",
       "    <tr style=\"text-align: right;\">\n",
       "      <th></th>\n",
       "      <th>lat</th>\n",
       "      <th>lon</th>\n",
       "      <th>cons_pc</th>\n",
       "      <th>nightlights</th>\n",
       "    </tr>\n",
       "  </thead>\n",
       "  <tbody>\n",
       "    <tr>\n",
       "      <th>0</th>\n",
       "      <td>-17.095150</td>\n",
       "      <td>35.217213</td>\n",
       "      <td>1.477796</td>\n",
       "      <td>0.00000</td>\n",
       "    </tr>\n",
       "    <tr>\n",
       "      <th>1</th>\n",
       "      <td>-17.092351</td>\n",
       "      <td>35.114643</td>\n",
       "      <td>1.314741</td>\n",
       "      <td>0.00000</td>\n",
       "    </tr>\n",
       "    <tr>\n",
       "      <th>2</th>\n",
       "      <td>-17.016698</td>\n",
       "      <td>35.079629</td>\n",
       "      <td>1.626932</td>\n",
       "      <td>0.00000</td>\n",
       "    </tr>\n",
       "    <tr>\n",
       "      <th>3</th>\n",
       "      <td>-16.977243</td>\n",
       "      <td>35.205706</td>\n",
       "      <td>1.733232</td>\n",
       "      <td>0.14876</td>\n",
       "    </tr>\n",
       "    <tr>\n",
       "      <th>4</th>\n",
       "      <td>-16.956385</td>\n",
       "      <td>35.168967</td>\n",
       "      <td>1.131669</td>\n",
       "      <td>0.00000</td>\n",
       "    </tr>\n",
       "  </tbody>\n",
       "</table>\n",
       "</div>"
      ],
      "text/plain": [
       "         lat        lon   cons_pc  nightlights\n",
       "0 -17.095150  35.217213  1.477796      0.00000\n",
       "1 -17.092351  35.114643  1.314741      0.00000\n",
       "2 -17.016698  35.079629  1.626932      0.00000\n",
       "3 -16.977243  35.205706  1.733232      0.14876\n",
       "4 -16.956385  35.168967  1.131669      0.00000"
      ]
     },
     "execution_count": 30,
     "metadata": {},
     "output_type": "execute_result"
    }
   ],
   "source": [
    "df_clusters.head()"
   ]
  },
  {
   "cell_type": "code",
   "execution_count": 31,
   "metadata": {},
   "outputs": [],
   "source": [
    "os.makedirs(os.path.join(COUNTRY_DIR, 'processed'), exist_ok=True)"
   ]
  },
  {
   "cell_type": "code",
   "execution_count": 32,
   "metadata": {},
   "outputs": [],
   "source": [
    "df_clusters.to_csv(os.path.join(COUNTRY_DIR, 'processed/clusters.csv'), index=False)"
   ]
  },
  {
   "cell_type": "code",
   "execution_count": null,
   "metadata": {},
   "outputs": [],
   "source": []
  }
 ],
 "metadata": {
  "kernelspec": {
   "display_name": "gdal",
   "language": "python",
   "name": "gdal"
  },
  "language_info": {
   "codemirror_mode": {
    "name": "ipython",
    "version": 3
   },
   "file_extension": ".py",
   "mimetype": "text/x-python",
   "name": "python",
   "nbconvert_exporter": "python",
   "pygments_lexer": "ipython3",
   "version": "3.7.6"
  }
 },
 "nbformat": 4,
 "nbformat_minor": 2
}
