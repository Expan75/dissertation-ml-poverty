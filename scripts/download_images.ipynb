{
 "cells": [
  {
   "cell_type": "code",
   "execution_count": 1,
   "metadata": {},
   "outputs": [],
   "source": [
    "import os\n",
    "import numpy as np\n",
    "import pandas as pd\n",
    "from osgeo import gdal, osr\n",
    "from tqdm import tqdm\n",
    "\n",
    "import requests\n",
    "import matplotlib.pyplot as plt\n",
    "from io import BytesIO"
   ]
  },
  {
   "cell_type": "code",
   "execution_count": 2,
   "metadata": {},
   "outputs": [],
   "source": [
    "BASE_DIR = '..'\n",
    "NIGHTLIGHTS_DIR = os.path.join(BASE_DIR, 'data/Nightlights/2013/F182013.v4c_web.stable_lights.avg_vis.tif')\n",
    "COUNTRY = 'malawi_2016'\n",
    "MAPS_ACCESS_TOKEN = os.getenv('MAPS_ACCESS_TOKEN')\n",
    "\n",
    "RANDOM_SEED = 7 # for reproducibility\n",
    "PROCESSED_DIR = os.path.join(BASE_DIR, 'countries', COUNTRY, 'processed')\n",
    "IMAGE_DIR = os.path.join(BASE_DIR, 'countries', COUNTRY, 'images')"
   ]
  },
  {
   "cell_type": "code",
   "execution_count": 3,
   "metadata": {
    "scrolled": true
   },
   "outputs": [
    {
     "ename": "FileExistsError",
     "evalue": "[Errno 17] File exists: '../countries/malawi_2016/images'",
     "output_type": "error",
     "traceback": [
      "\u001b[0;31m---------------------------------------------------------------------------\u001b[0m",
      "\u001b[0;31mFileExistsError\u001b[0m                           Traceback (most recent call last)",
      "\u001b[0;32m<ipython-input-3-cceefb2dd155>\u001b[0m in \u001b[0;36m<module>\u001b[0;34m\u001b[0m\n\u001b[0;32m----> 1\u001b[0;31m \u001b[0mos\u001b[0m\u001b[0;34m.\u001b[0m\u001b[0mmakedirs\u001b[0m\u001b[0;34m(\u001b[0m\u001b[0mIMAGE_DIR\u001b[0m\u001b[0;34m,\u001b[0m \u001b[0mexist_ok\u001b[0m\u001b[0;34m=\u001b[0m\u001b[0;32mFalse\u001b[0m\u001b[0;34m)\u001b[0m\u001b[0;34m\u001b[0m\u001b[0;34m\u001b[0m\u001b[0m\n\u001b[0m",
      "\u001b[0;32m~/opt/anaconda3/envs/gdal/lib/python3.7/os.py\u001b[0m in \u001b[0;36mmakedirs\u001b[0;34m(name, mode, exist_ok)\u001b[0m\n\u001b[1;32m    219\u001b[0m             \u001b[0;32mreturn\u001b[0m\u001b[0;34m\u001b[0m\u001b[0;34m\u001b[0m\u001b[0m\n\u001b[1;32m    220\u001b[0m     \u001b[0;32mtry\u001b[0m\u001b[0;34m:\u001b[0m\u001b[0;34m\u001b[0m\u001b[0;34m\u001b[0m\u001b[0m\n\u001b[0;32m--> 221\u001b[0;31m         \u001b[0mmkdir\u001b[0m\u001b[0;34m(\u001b[0m\u001b[0mname\u001b[0m\u001b[0;34m,\u001b[0m \u001b[0mmode\u001b[0m\u001b[0;34m)\u001b[0m\u001b[0;34m\u001b[0m\u001b[0;34m\u001b[0m\u001b[0m\n\u001b[0m\u001b[1;32m    222\u001b[0m     \u001b[0;32mexcept\u001b[0m \u001b[0mOSError\u001b[0m\u001b[0;34m:\u001b[0m\u001b[0;34m\u001b[0m\u001b[0;34m\u001b[0m\u001b[0m\n\u001b[1;32m    223\u001b[0m         \u001b[0;31m# Cannot rely on checking for EEXIST, since the operating system\u001b[0m\u001b[0;34m\u001b[0m\u001b[0;34m\u001b[0m\u001b[0;34m\u001b[0m\u001b[0m\n",
      "\u001b[0;31mFileExistsError\u001b[0m: [Errno 17] File exists: '../countries/malawi_2016/images'"
     ]
    }
   ],
   "source": [
    "os.makedirs(IMAGE_DIR, exist_ok=False)"
   ]
  },
  {
   "cell_type": "code",
   "execution_count": null,
   "metadata": {},
   "outputs": [],
   "source": [
    "MAPS_ACCESS_TOKEN"
   ]
  },
  {
   "cell_type": "markdown",
   "metadata": {},
   "source": [
    "# Generate Candidate Download Locations"
   ]
  },
  {
   "cell_type": "code",
   "execution_count": 4,
   "metadata": {},
   "outputs": [],
   "source": [
    "# these are adapted straight from the original paper\n",
    "\n",
    "def latLon2Pixel(lat, lon, ct, gt):\n",
    "    (lon, lat, holder) = ct.TransformPoint(lon, lat)\n",
    "    x = (lon-gt[0])/gt[1]\n",
    "    y = (lat-gt[3])/gt[5]\n",
    "    return (int(x), int(y))\n",
    "\n",
    "\n",
    "def locsToPixels(srcAddr, latLonPairs):\n",
    "    ds = gdal.Open(srcAddr)\n",
    "    gt = ds.GetGeoTransform()\n",
    "    srs = osr.SpatialReference()\n",
    "    srs.ImportFromWkt(ds.GetProjection())\n",
    "    srsLatLong = srs.CloneGeogCS()\n",
    "    ct = osr.CoordinateTransformation(srsLatLong, srs)\n",
    "    pixelPairs = []\n",
    "    for point in latLonPairs:\n",
    "        lat, lon = point\n",
    "        pixelPairs.append(latLon2Pixel(lat, lon, ct, gt))\n",
    "    return pixelPairs\n",
    "\n",
    "\n",
    "def pixel2coord(x, y, xoff, a, b, yoff, d, e):\n",
    "    xp = a * x + b * y + xoff\n",
    "    yp = d * x + e * y + yoff\n",
    "    return (yp, xp)\n",
    "\n",
    "\n",
    "def pixelsToCoords(srcAddr, pixelPairs):\n",
    "    ds = gdal.Open(srcAddr)\n",
    "    xoff, a, b, yoff, d, e = ds.GetGeoTransform()\n",
    "    latLonPairs = []\n",
    "    for pixel in pixelPairs:\n",
    "        x, y = pixel\n",
    "        latLonPairs.append(pixel2coord(x + 0.5, y + 0.5, xoff, a, b, yoff, d, e))\n",
    "    return latLonPairs\n",
    "\n",
    "\n",
    "def get_download_locations():\n",
    "    df = pd.read_csv(os.path.join(PROCESSED_DIR, 'clusters.csv'))\n",
    "    clusters = df[['lat', 'lon']].values.tolist()\n",
    "    top_lefts = [(lat + 0.045, lon - 0.045) for lat, lon in clusters]\n",
    "    bottom_rights = [(lat - 0.045, lon + 0.045) for lat, lon in clusters]\n",
    "    top_left_pixellocs = locsToPixels(NIGHTLIGHTS_DIR, top_lefts)\n",
    "    bottom_right_pixellocs = locsToPixels(NIGHTLIGHTS_DIR, bottom_rights)\n",
    "    output_cluster_locs = []\n",
    "    output_pix = []\n",
    "    for i in range(len(clusters)):\n",
    "        top_left = top_left_pixellocs[i]\n",
    "        bottom_right = bottom_right_pixellocs[i]\n",
    "        for x in range(top_left[0], bottom_right[0]):\n",
    "            for y in range(top_left[1], bottom_right[1]):\n",
    "                output_pix.append((x, y))\n",
    "                output_cluster_locs.append(clusters[i])\n",
    "\n",
    "    output_locs = pixelsToCoords(NIGHTLIGHTS_DIR, output_pix)\n",
    "    save_dir = os.path.join(PROCESSED_DIR, 'candidate_download_locs.csv')\n",
    "    columns = ['im_lat', 'im_lon', 'cluster_lat', 'cluster_lon']\n",
    "    with open(save_dir, 'w') as f:\n",
    "        f.write(','.join(columns) + '\\n')\n",
    "        for loc, cluster_loc in zip(output_locs, output_cluster_locs):\n",
    "            to_write = ','.join([str(loc[0]), str(loc[1]), str(cluster_loc[0]), str(cluster_loc[1])]) + '\\n'\n",
    "            f.write(to_write)\n",
    "        print(f'{len(output_locs)} locations saved at {save_dir}')\n"
   ]
  },
  {
   "cell_type": "code",
   "execution_count": 5,
   "metadata": {},
   "outputs": [
    {
     "name": "stdout",
     "output_type": "stream",
     "text": [
      "Generating candidate image locations for malawi_2016\n",
      "90943 locations saved at ../countries/malawi_2016/processed/candidate_download_locs.csv\n"
     ]
    }
   ],
   "source": [
    "print(f\"Generating candidate image locations for {COUNTRY}\")\n",
    "get_download_locations()"
   ]
  },
  {
   "cell_type": "code",
   "execution_count": 6,
   "metadata": {},
   "outputs": [
    {
     "data": {
      "text/html": [
       "<div>\n",
       "<style scoped>\n",
       "    .dataframe tbody tr th:only-of-type {\n",
       "        vertical-align: middle;\n",
       "    }\n",
       "\n",
       "    .dataframe tbody tr th {\n",
       "        vertical-align: top;\n",
       "    }\n",
       "\n",
       "    .dataframe thead th {\n",
       "        text-align: right;\n",
       "    }\n",
       "</style>\n",
       "<table border=\"1\" class=\"dataframe\">\n",
       "  <thead>\n",
       "    <tr style=\"text-align: right;\">\n",
       "      <th></th>\n",
       "      <th>im_lat</th>\n",
       "      <th>im_lon</th>\n",
       "      <th>cluster_lat</th>\n",
       "      <th>cluster_lon</th>\n",
       "    </tr>\n",
       "  </thead>\n",
       "  <tbody>\n",
       "    <tr>\n",
       "      <th>0</th>\n",
       "      <td>-17.050000</td>\n",
       "      <td>35.174999</td>\n",
       "      <td>-17.09515</td>\n",
       "      <td>35.217213</td>\n",
       "    </tr>\n",
       "    <tr>\n",
       "      <th>1</th>\n",
       "      <td>-17.058333</td>\n",
       "      <td>35.174999</td>\n",
       "      <td>-17.09515</td>\n",
       "      <td>35.217213</td>\n",
       "    </tr>\n",
       "    <tr>\n",
       "      <th>2</th>\n",
       "      <td>-17.066666</td>\n",
       "      <td>35.174999</td>\n",
       "      <td>-17.09515</td>\n",
       "      <td>35.217213</td>\n",
       "    </tr>\n",
       "    <tr>\n",
       "      <th>3</th>\n",
       "      <td>-17.075000</td>\n",
       "      <td>35.174999</td>\n",
       "      <td>-17.09515</td>\n",
       "      <td>35.217213</td>\n",
       "    </tr>\n",
       "    <tr>\n",
       "      <th>4</th>\n",
       "      <td>-17.083333</td>\n",
       "      <td>35.174999</td>\n",
       "      <td>-17.09515</td>\n",
       "      <td>35.217213</td>\n",
       "    </tr>\n",
       "  </tbody>\n",
       "</table>\n",
       "</div>"
      ],
      "text/plain": [
       "      im_lat     im_lon  cluster_lat  cluster_lon\n",
       "0 -17.050000  35.174999    -17.09515    35.217213\n",
       "1 -17.058333  35.174999    -17.09515    35.217213\n",
       "2 -17.066666  35.174999    -17.09515    35.217213\n",
       "3 -17.075000  35.174999    -17.09515    35.217213\n",
       "4 -17.083333  35.174999    -17.09515    35.217213"
      ]
     },
     "execution_count": 6,
     "metadata": {},
     "output_type": "execute_result"
    }
   ],
   "source": [
    "df_potential_download = pd.read_csv(os.path.join(PROCESSED_DIR, 'candidate_download_locs.csv'))\n",
    "df_potential_download.head()"
   ]
  },
  {
   "cell_type": "code",
   "execution_count": 7,
   "metadata": {},
   "outputs": [
    {
     "data": {
      "text/plain": [
       "(90943, 4)"
      ]
     },
     "execution_count": 7,
     "metadata": {},
     "output_type": "execute_result"
    }
   ],
   "source": [
    "df_potential_download.shape"
   ]
  },
  {
   "cell_type": "code",
   "execution_count": 8,
   "metadata": {},
   "outputs": [],
   "source": [
    "df_clusters = pd.read_csv(os.path.join(PROCESSED_DIR, 'clusters.csv'))\n",
    "df_clusters.rename(columns={'lat': 'cluster_lat', 'lon': 'cluster_lon'}, inplace=True)"
   ]
  },
  {
   "cell_type": "code",
   "execution_count": 9,
   "metadata": {},
   "outputs": [
    {
     "data": {
      "text/html": [
       "<div>\n",
       "<style scoped>\n",
       "    .dataframe tbody tr th:only-of-type {\n",
       "        vertical-align: middle;\n",
       "    }\n",
       "\n",
       "    .dataframe tbody tr th {\n",
       "        vertical-align: top;\n",
       "    }\n",
       "\n",
       "    .dataframe thead th {\n",
       "        text-align: right;\n",
       "    }\n",
       "</style>\n",
       "<table border=\"1\" class=\"dataframe\">\n",
       "  <thead>\n",
       "    <tr style=\"text-align: right;\">\n",
       "      <th></th>\n",
       "      <th>cluster_lat</th>\n",
       "      <th>cluster_lon</th>\n",
       "      <th>cons_pc</th>\n",
       "      <th>nightlights</th>\n",
       "    </tr>\n",
       "  </thead>\n",
       "  <tbody>\n",
       "    <tr>\n",
       "      <th>0</th>\n",
       "      <td>-17.095150</td>\n",
       "      <td>35.217213</td>\n",
       "      <td>1.477796</td>\n",
       "      <td>0.00000</td>\n",
       "    </tr>\n",
       "    <tr>\n",
       "      <th>1</th>\n",
       "      <td>-17.092351</td>\n",
       "      <td>35.114643</td>\n",
       "      <td>1.314741</td>\n",
       "      <td>0.00000</td>\n",
       "    </tr>\n",
       "    <tr>\n",
       "      <th>2</th>\n",
       "      <td>-17.016698</td>\n",
       "      <td>35.079629</td>\n",
       "      <td>1.626932</td>\n",
       "      <td>0.00000</td>\n",
       "    </tr>\n",
       "    <tr>\n",
       "      <th>3</th>\n",
       "      <td>-16.977243</td>\n",
       "      <td>35.205706</td>\n",
       "      <td>1.733232</td>\n",
       "      <td>0.14876</td>\n",
       "    </tr>\n",
       "    <tr>\n",
       "      <th>4</th>\n",
       "      <td>-16.956385</td>\n",
       "      <td>35.168967</td>\n",
       "      <td>1.131669</td>\n",
       "      <td>0.00000</td>\n",
       "    </tr>\n",
       "  </tbody>\n",
       "</table>\n",
       "</div>"
      ],
      "text/plain": [
       "   cluster_lat  cluster_lon   cons_pc  nightlights\n",
       "0   -17.095150    35.217213  1.477796      0.00000\n",
       "1   -17.092351    35.114643  1.314741      0.00000\n",
       "2   -17.016698    35.079629  1.626932      0.00000\n",
       "3   -16.977243    35.205706  1.733232      0.14876\n",
       "4   -16.956385    35.168967  1.131669      0.00000"
      ]
     },
     "execution_count": 9,
     "metadata": {},
     "output_type": "execute_result"
    }
   ],
   "source": [
    "df_clusters.head()"
   ]
  },
  {
   "cell_type": "code",
   "execution_count": 10,
   "metadata": {},
   "outputs": [],
   "source": [
    "def merge_on_lat_lon(df1, df2, keys=['cluster_lat', 'cluster_lon']):\n",
    "    \"\"\"\n",
    "        Allows two dataframes to be merged on lat/lon\n",
    "        Necessary because pandas has trouble merging on floats\n",
    "    \"\"\"\n",
    "    df1 = df1.copy()\n",
    "    df2 = df2.copy()\n",
    "    \n",
    "    # must use ints for merging, as floats induce errors\n",
    "    df1['merge_lat'] = (10000 * df1[keys[0]]).astype(int)\n",
    "    df1['merge_lon'] = (10000 * df1[keys[1]]).astype(int)\n",
    "    \n",
    "    df2['merge_lat'] = (10000 * df2[keys[0]]).astype(int)\n",
    "    df2['merge_lon'] = (10000 * df2[keys[1]]).astype(int)\n",
    "    \n",
    "    df2.drop(keys, axis=1, inplace=True)\n",
    "    merged = pd.merge(df1, df2, on=['merge_lat', 'merge_lon'])\n",
    "    merged.drop(['merge_lat', 'merge_lon'], axis=1, inplace=True)\n",
    "    return merged"
   ]
  },
  {
   "cell_type": "code",
   "execution_count": 11,
   "metadata": {},
   "outputs": [],
   "source": [
    "prev_len = len(df_potential_download)\n",
    "df_potential_download = merge_on_lat_lon(df_potential_download, df_clusters)\n",
    "assert len(df_potential_download) == prev_len"
   ]
  },
  {
   "cell_type": "code",
   "execution_count": 12,
   "metadata": {},
   "outputs": [
    {
     "data": {
      "text/html": [
       "<div>\n",
       "<style scoped>\n",
       "    .dataframe tbody tr th:only-of-type {\n",
       "        vertical-align: middle;\n",
       "    }\n",
       "\n",
       "    .dataframe tbody tr th {\n",
       "        vertical-align: top;\n",
       "    }\n",
       "\n",
       "    .dataframe thead th {\n",
       "        text-align: right;\n",
       "    }\n",
       "</style>\n",
       "<table border=\"1\" class=\"dataframe\">\n",
       "  <thead>\n",
       "    <tr style=\"text-align: right;\">\n",
       "      <th></th>\n",
       "      <th>im_lat</th>\n",
       "      <th>im_lon</th>\n",
       "      <th>cluster_lat</th>\n",
       "      <th>cluster_lon</th>\n",
       "      <th>cons_pc</th>\n",
       "      <th>nightlights</th>\n",
       "    </tr>\n",
       "  </thead>\n",
       "  <tbody>\n",
       "    <tr>\n",
       "      <th>0</th>\n",
       "      <td>-17.050000</td>\n",
       "      <td>35.174999</td>\n",
       "      <td>-17.09515</td>\n",
       "      <td>35.217213</td>\n",
       "      <td>1.477796</td>\n",
       "      <td>0.0</td>\n",
       "    </tr>\n",
       "    <tr>\n",
       "      <th>1</th>\n",
       "      <td>-17.058333</td>\n",
       "      <td>35.174999</td>\n",
       "      <td>-17.09515</td>\n",
       "      <td>35.217213</td>\n",
       "      <td>1.477796</td>\n",
       "      <td>0.0</td>\n",
       "    </tr>\n",
       "    <tr>\n",
       "      <th>2</th>\n",
       "      <td>-17.066666</td>\n",
       "      <td>35.174999</td>\n",
       "      <td>-17.09515</td>\n",
       "      <td>35.217213</td>\n",
       "      <td>1.477796</td>\n",
       "      <td>0.0</td>\n",
       "    </tr>\n",
       "    <tr>\n",
       "      <th>3</th>\n",
       "      <td>-17.075000</td>\n",
       "      <td>35.174999</td>\n",
       "      <td>-17.09515</td>\n",
       "      <td>35.217213</td>\n",
       "      <td>1.477796</td>\n",
       "      <td>0.0</td>\n",
       "    </tr>\n",
       "    <tr>\n",
       "      <th>4</th>\n",
       "      <td>-17.083333</td>\n",
       "      <td>35.174999</td>\n",
       "      <td>-17.09515</td>\n",
       "      <td>35.217213</td>\n",
       "      <td>1.477796</td>\n",
       "      <td>0.0</td>\n",
       "    </tr>\n",
       "  </tbody>\n",
       "</table>\n",
       "</div>"
      ],
      "text/plain": [
       "      im_lat     im_lon  cluster_lat  cluster_lon   cons_pc  nightlights\n",
       "0 -17.050000  35.174999    -17.09515    35.217213  1.477796          0.0\n",
       "1 -17.058333  35.174999    -17.09515    35.217213  1.477796          0.0\n",
       "2 -17.066666  35.174999    -17.09515    35.217213  1.477796          0.0\n",
       "3 -17.075000  35.174999    -17.09515    35.217213  1.477796          0.0\n",
       "4 -17.083333  35.174999    -17.09515    35.217213  1.477796          0.0"
      ]
     },
     "execution_count": 12,
     "metadata": {},
     "output_type": "execute_result"
    }
   ],
   "source": [
    "df_potential_download.head()"
   ]
  },
  {
   "cell_type": "code",
   "execution_count": 13,
   "metadata": {},
   "outputs": [
    {
     "data": {
      "text/plain": [
       "780"
      ]
     },
     "execution_count": 13,
     "metadata": {},
     "output_type": "execute_result"
    }
   ],
   "source": [
    "# See potential unique clusters\n",
    "unique_clusters = np.unique(df_potential_download[['cluster_lat','cluster_lon']], axis=0)\n",
    "len(unique_clusters)"
   ]
  },
  {
   "cell_type": "markdown",
   "metadata": {},
   "source": [
    "# Filter Download Choices"
   ]
  },
  {
   "cell_type": "code",
   "execution_count": 14,
   "metadata": {},
   "outputs": [
    {
     "name": "stdout",
     "output_type": "stream",
     "text": [
      "0.588401526230716\n",
      "0.7737373959513102\n"
     ]
    }
   ],
   "source": [
    "# most nightlights are 0\n",
    "# let's download images that have nonzero nightlights to induce variety into the model\n",
    "print((df_potential_download['nightlights'] == 0).mean())\n",
    "print((df_potential_download['nightlights'] <= 2).mean())"
   ]
  },
  {
   "cell_type": "code",
   "execution_count": 15,
   "metadata": {},
   "outputs": [],
   "source": [
    "def drop_0s(df, fr=0.1, min_clust_images=10):\n",
    "    \"\"\"\n",
    "        Solves for d:\n",
    "            (c_z - d)/(n - d) = fr\n",
    "        Where c_z = count_zero, n = num_rows, fr = frac_remaining\n",
    "        \n",
    "        Yields:\n",
    "        d = (c - n*fr) / (1 - fr)\n",
    "    \"\"\"\n",
    "    np.random.seed(RANDOM_SEED)\n",
    "    c_z = (df['nightlights']==0).sum()\n",
    "    print(\"Printing number of locs /w 0 light intensity: {}\".format(c_z))\n",
    "    n = len(df)\n",
    "    assert c_z / n > fr, print(f'Dataframe already has under {fr} zeros')\n",
    "    \n",
    "    d = (c_z - n * fr) / (1 - fr)\n",
    "    d = int(d)\n",
    "    print(f'dropping: {d}')\n",
    "    \n",
    "    zero_df = df[df['nightlights']==0]\n",
    "    zero_clusters = zero_df.groupby(['cluster_lat', 'cluster_lon'])\n",
    "    per_cluster_drop = int(d / len(zero_clusters))\n",
    "    print(f'Need to drop {per_cluster_drop} per cluster with 0 nightlights')\n",
    "    \n",
    "    drop_inds = []\n",
    "    for (cluster_lat, cluster_lon), group in zero_clusters:\n",
    "        z_inds = group.index\n",
    "        clust_drop = np.random.choice(z_inds, per_cluster_drop, replace=False)\n",
    "        # assert len(group) - len(clust_drop) >= min_clust_images, print(f'dropping too many in {cluster_lat}, {cluster_lon}')\n",
    "        drop_inds += clust_drop.tolist()\n",
    "    \n",
    "    # this is how you do it purely randomly but some clusters might get wiped out\n",
    "    # z_inds = np.argwhere(df['nightlights'].values == 0).reshape(-1)\n",
    "    # drop_inds = np.random.choice(z_inds, d, replace=False)\n",
    "    return df.drop(drop_inds).reset_index(drop=True)\n",
    "\n",
    "def drop_in_range(df, lower=0, upper=2, fr=0.25, min_clust_images=10):\n",
    "    \"\"\"\n",
    "        Very similar to drop_0s calculation, but more generalized\n",
    "    \"\"\"\n",
    "    np.random.seed(RANDOM_SEED)\n",
    "    boolean_idx = ((lower <= df['nightlights']) & (df['nightlights'] <= upper))\n",
    "    c_under = boolean_idx.sum()\n",
    "    n = len(df)\n",
    "    assert c_under / n > fr, print(f'Dataframe already has under {fr} zeros')\n",
    "    \n",
    "    d = (c_under - n * fr) / (1 - fr)\n",
    "    d = int(d)\n",
    "    print(f'dropping: {d}')\n",
    "    \n",
    "    select_df = df[boolean_idx]\n",
    "    select_clusters = select_df.groupby(['cluster_lat', 'cluster_lon'])\n",
    "    per_cluster_drop = int(d / len(select_clusters))\n",
    "    print(f'Need to drop {per_cluster_drop} per cluster in the given nightlight range')\n",
    "    \n",
    "    drop_inds = []\n",
    "    for (cluster_lat, cluster_lon), group in select_clusters:\n",
    "        z_inds = group.index\n",
    "        clust_drop = np.random.choice(z_inds, per_cluster_drop, replace=False)\n",
    "        # assert len(group) - len(clust_drop) >= min_clust_images, print(f'dropping too many in {cluster_lat}, {cluster_lon}')\n",
    "        drop_inds += clust_drop.tolist()\n",
    "        \n",
    "    return df.drop(drop_inds).reset_index(drop=True)\n"
   ]
  },
  {
   "cell_type": "code",
   "execution_count": 16,
   "metadata": {
    "scrolled": true
   },
   "outputs": [
    {
     "name": "stdout",
     "output_type": "stream",
     "text": [
      "Printing number of locs /w 0 light intensity: 53511\n",
      "dropping: 44152\n",
      "Need to drop 95 per cluster with 0 nightlights\n"
     ]
    }
   ],
   "source": [
    "df_mod_download = drop_0s(df_potential_download, fr=0.2)"
   ]
  },
  {
   "cell_type": "code",
   "execution_count": 17,
   "metadata": {},
   "outputs": [
    {
     "data": {
      "text/plain": [
       "0.2060744888436413"
      ]
     },
     "execution_count": 17,
     "metadata": {},
     "output_type": "execute_result"
    }
   ],
   "source": [
    "(df_mod_download['nightlights'] == 0).mean()"
   ]
  },
  {
   "cell_type": "code",
   "execution_count": 18,
   "metadata": {},
   "outputs": [
    {
     "name": "stdout",
     "output_type": "stream",
     "text": [
      "dropping: 9940\n",
      "Need to drop 60 per cluster in the given nightlight range\n"
     ]
    }
   ],
   "source": [
    "df_mod_download = drop_in_range(df_mod_download, lower=0.001, upper=3, fr=0.25)"
   ]
  },
  {
   "cell_type": "code",
   "execution_count": 19,
   "metadata": {},
   "outputs": [
    {
     "data": {
      "text/plain": [
       "0.2532113037893385"
      ]
     },
     "execution_count": 19,
     "metadata": {},
     "output_type": "execute_result"
    }
   ],
   "source": [
    "((0.001 <= df_mod_download['nightlights']) & (df_mod_download['nightlights'] <= 3)).mean()"
   ]
  },
  {
   "cell_type": "code",
   "execution_count": 20,
   "metadata": {},
   "outputs": [
    {
     "data": {
      "text/plain": [
       "0.2600085634767716"
      ]
     },
     "execution_count": 20,
     "metadata": {},
     "output_type": "execute_result"
    }
   ],
   "source": [
    "# this has gone up now though\n",
    "(df_mod_download['nightlights'] == 0).mean()"
   ]
  },
  {
   "cell_type": "code",
   "execution_count": 21,
   "metadata": {},
   "outputs": [
    {
     "name": "stdout",
     "output_type": "stream",
     "text": [
      "Printing number of locs /w 0 light intensity: 9716\n",
      "Dataframe already has under 0.3 zeros\n"
     ]
    },
    {
     "ename": "AssertionError",
     "evalue": "None",
     "output_type": "error",
     "traceback": [
      "\u001b[0;31m---------------------------------------------------------------------------\u001b[0m",
      "\u001b[0;31mAssertionError\u001b[0m                            Traceback (most recent call last)",
      "\u001b[0;32m<ipython-input-21-768fd3cd6556>\u001b[0m in \u001b[0;36m<module>\u001b[0;34m\u001b[0m\n\u001b[0;32m----> 1\u001b[0;31m \u001b[0mdf_mod_download\u001b[0m \u001b[0;34m=\u001b[0m \u001b[0mdrop_0s\u001b[0m\u001b[0;34m(\u001b[0m\u001b[0mdf_mod_download\u001b[0m\u001b[0;34m,\u001b[0m \u001b[0mfr\u001b[0m\u001b[0;34m=\u001b[0m\u001b[0;36m0.3\u001b[0m\u001b[0;34m)\u001b[0m\u001b[0;34m\u001b[0m\u001b[0;34m\u001b[0m\u001b[0m\n\u001b[0m",
      "\u001b[0;32m<ipython-input-15-12f795ba1417>\u001b[0m in \u001b[0;36mdrop_0s\u001b[0;34m(df, fr, min_clust_images)\u001b[0m\n\u001b[1;32m     12\u001b[0m     \u001b[0mprint\u001b[0m\u001b[0;34m(\u001b[0m\u001b[0;34m\"Printing number of locs /w 0 light intensity: {}\"\u001b[0m\u001b[0;34m.\u001b[0m\u001b[0mformat\u001b[0m\u001b[0;34m(\u001b[0m\u001b[0mc_z\u001b[0m\u001b[0;34m)\u001b[0m\u001b[0;34m)\u001b[0m\u001b[0;34m\u001b[0m\u001b[0;34m\u001b[0m\u001b[0m\n\u001b[1;32m     13\u001b[0m     \u001b[0mn\u001b[0m \u001b[0;34m=\u001b[0m \u001b[0mlen\u001b[0m\u001b[0;34m(\u001b[0m\u001b[0mdf\u001b[0m\u001b[0;34m)\u001b[0m\u001b[0;34m\u001b[0m\u001b[0;34m\u001b[0m\u001b[0m\n\u001b[0;32m---> 14\u001b[0;31m     \u001b[0;32massert\u001b[0m \u001b[0mc_z\u001b[0m \u001b[0;34m/\u001b[0m \u001b[0mn\u001b[0m \u001b[0;34m>\u001b[0m \u001b[0mfr\u001b[0m\u001b[0;34m,\u001b[0m \u001b[0mprint\u001b[0m\u001b[0;34m(\u001b[0m\u001b[0;34mf'Dataframe already has under {fr} zeros'\u001b[0m\u001b[0;34m)\u001b[0m\u001b[0;34m\u001b[0m\u001b[0;34m\u001b[0m\u001b[0m\n\u001b[0m\u001b[1;32m     15\u001b[0m \u001b[0;34m\u001b[0m\u001b[0m\n\u001b[1;32m     16\u001b[0m     \u001b[0md\u001b[0m \u001b[0;34m=\u001b[0m \u001b[0;34m(\u001b[0m\u001b[0mc_z\u001b[0m \u001b[0;34m-\u001b[0m \u001b[0mn\u001b[0m \u001b[0;34m*\u001b[0m \u001b[0mfr\u001b[0m\u001b[0;34m)\u001b[0m \u001b[0;34m/\u001b[0m \u001b[0;34m(\u001b[0m\u001b[0;36m1\u001b[0m \u001b[0;34m-\u001b[0m \u001b[0mfr\u001b[0m\u001b[0;34m)\u001b[0m\u001b[0;34m\u001b[0m\u001b[0;34m\u001b[0m\u001b[0m\n",
      "\u001b[0;31mAssertionError\u001b[0m: None"
     ]
    }
   ],
   "source": [
    "df_mod_download = drop_0s(df_mod_download, fr=0.3)"
   ]
  },
  {
   "cell_type": "code",
   "execution_count": 22,
   "metadata": {},
   "outputs": [
    {
     "data": {
      "text/plain": [
       "(37368, 6)"
      ]
     },
     "execution_count": 22,
     "metadata": {},
     "output_type": "execute_result"
    }
   ],
   "source": [
    "df_mod_download.shape"
   ]
  },
  {
   "cell_type": "code",
   "execution_count": 33,
   "metadata": {},
   "outputs": [],
   "source": [
    "# Generate graphs depicting univarite distributional shift in night time light intensity\n",
    "#df_potential_download.head()\n",
    "#df_mod_download.head()\n",
    "\n",
    "# Get variables\n",
    "# unmodified night light distribution\n",
    "premodif_df = pd.DataFrame(data=df_potential_download.nightlights)\n",
    "# premodif_df.head()\n",
    "\n",
    "# append modifed dist\n",
    "modified_df = pd.DataFrame(data=df_mod_download.nightlights)"
   ]
  },
  {
   "cell_type": "code",
   "execution_count": 49,
   "metadata": {},
   "outputs": [
    {
     "data": {
      "text/plain": [
       "Text(0.5, 1.0, 'Night-time Light Intensity Distributions')"
      ]
     },
     "execution_count": 49,
     "metadata": {},
     "output_type": "execute_result"
    },
    {
     "data": {
      "image/png": "[encoded data removed]",
      "text/plain": [
       "<Figure size 720x288 with 1 Axes>"
      ]
     },
     "metadata": {
      "needs_background": "light"
     },
     "output_type": "display_data"
    }
   ],
   "source": [
    "# Plot distrubiton before and after modification\n",
    "import seaborn as sns\n",
    "from matplotlib import pyplot as plt\n",
    "# Set Figure size\n",
    "plt.figure(figsize=(10,4))\n",
    "\n",
    "sns.distplot(premodif_df, hist=False, rug=False, label=\"Pre-balancing\").set(xlabel='Light Intensity', ylabel='Probability')\n",
    "sns.distplot(modified_df, hist=False, rug=False, label=\"Post-balancing\").set_title('Night-time Light Intensity Distributions')\n"
   ]
  },
  {
   "cell_type": "code",
   "execution_count": 24,
   "metadata": {},
   "outputs": [
    {
     "data": {
      "text/plain": [
       "780"
      ]
     },
     "execution_count": 24,
     "metadata": {},
     "output_type": "execute_result"
    }
   ],
   "source": [
    "# no clusters lost\n",
    "len(df_mod_download.groupby(['cluster_lat', 'cluster_lon']))"
   ]
  },
  {
   "cell_type": "code",
   "execution_count": 25,
   "metadata": {},
   "outputs": [
    {
     "data": {
      "text/html": [
       "<div>\n",
       "<style scoped>\n",
       "    .dataframe tbody tr th:only-of-type {\n",
       "        vertical-align: middle;\n",
       "    }\n",
       "\n",
       "    .dataframe tbody tr th {\n",
       "        vertical-align: top;\n",
       "    }\n",
       "\n",
       "    .dataframe thead th {\n",
       "        text-align: right;\n",
       "    }\n",
       "</style>\n",
       "<table border=\"1\" class=\"dataframe\">\n",
       "  <thead>\n",
       "    <tr style=\"text-align: right;\">\n",
       "      <th></th>\n",
       "      <th>im_lat</th>\n",
       "      <th>im_lon</th>\n",
       "      <th>cluster_lat</th>\n",
       "      <th>cluster_lon</th>\n",
       "      <th>cons_pc</th>\n",
       "      <th>nightlights</th>\n",
       "    </tr>\n",
       "  </thead>\n",
       "  <tbody>\n",
       "    <tr>\n",
       "      <th>0</th>\n",
       "      <td>-17.075000</td>\n",
       "      <td>35.183332</td>\n",
       "      <td>-17.09515</td>\n",
       "      <td>35.217213</td>\n",
       "      <td>1.477796</td>\n",
       "      <td>0.0</td>\n",
       "    </tr>\n",
       "    <tr>\n",
       "      <th>1</th>\n",
       "      <td>-17.058333</td>\n",
       "      <td>35.191666</td>\n",
       "      <td>-17.09515</td>\n",
       "      <td>35.217213</td>\n",
       "      <td>1.477796</td>\n",
       "      <td>0.0</td>\n",
       "    </tr>\n",
       "    <tr>\n",
       "      <th>2</th>\n",
       "      <td>-17.075000</td>\n",
       "      <td>35.191666</td>\n",
       "      <td>-17.09515</td>\n",
       "      <td>35.217213</td>\n",
       "      <td>1.477796</td>\n",
       "      <td>0.0</td>\n",
       "    </tr>\n",
       "    <tr>\n",
       "      <th>3</th>\n",
       "      <td>-17.125000</td>\n",
       "      <td>35.199999</td>\n",
       "      <td>-17.09515</td>\n",
       "      <td>35.217213</td>\n",
       "      <td>1.477796</td>\n",
       "      <td>0.0</td>\n",
       "    </tr>\n",
       "    <tr>\n",
       "      <th>4</th>\n",
       "      <td>-17.075000</td>\n",
       "      <td>35.208332</td>\n",
       "      <td>-17.09515</td>\n",
       "      <td>35.217213</td>\n",
       "      <td>1.477796</td>\n",
       "      <td>0.0</td>\n",
       "    </tr>\n",
       "  </tbody>\n",
       "</table>\n",
       "</div>"
      ],
      "text/plain": [
       "      im_lat     im_lon  cluster_lat  cluster_lon   cons_pc  nightlights\n",
       "0 -17.075000  35.183332    -17.09515    35.217213  1.477796          0.0\n",
       "1 -17.058333  35.191666    -17.09515    35.217213  1.477796          0.0\n",
       "2 -17.075000  35.191666    -17.09515    35.217213  1.477796          0.0\n",
       "3 -17.125000  35.199999    -17.09515    35.217213  1.477796          0.0\n",
       "4 -17.075000  35.208332    -17.09515    35.217213  1.477796          0.0"
      ]
     },
     "execution_count": 25,
     "metadata": {},
     "output_type": "execute_result"
    }
   ],
   "source": [
    "df_mod_download.head()"
   ]
  },
  {
   "cell_type": "code",
   "execution_count": 26,
   "metadata": {},
   "outputs": [],
   "source": [
    "from sklearn.mixture import GaussianMixture as GMM\n",
    "X = df_mod_download['nightlights'].values.reshape(-1,1)\n",
    "gmm = GMM(n_components=3).fit(X)\n",
    "labels = gmm.predict(df_mod_download['nightlights'].values.reshape(-1,1))"
   ]
  },
  {
   "cell_type": "code",
   "execution_count": 27,
   "metadata": {},
   "outputs": [
    {
     "data": {
      "text/plain": [
       "(0.3804592164418754, 0.2600085634767716, 0.35953222008135305)"
      ]
     },
     "execution_count": 27,
     "metadata": {},
     "output_type": "execute_result"
    }
   ],
   "source": [
    "(labels==0).mean(), (labels==1).mean(), (labels==2).mean()"
   ]
  },
  {
   "cell_type": "code",
   "execution_count": 28,
   "metadata": {},
   "outputs": [
    {
     "data": {
      "text/plain": [
       "(5.663636363636364, 0.0, 48.413223140495866)"
      ]
     },
     "execution_count": 28,
     "metadata": {},
     "output_type": "execute_result"
    }
   ],
   "source": [
    "# these are the cutoff for the labels identified by the Guassian Mixture Model\n",
    "label0_max = df_mod_download['nightlights'][labels==0].max()\n",
    "label1_max = df_mod_download['nightlights'][labels==1].max()\n",
    "label2_max = df_mod_download['nightlights'][labels==2].max()\n",
    "\n",
    "label0_max, label1_max, label2_max"
   ]
  },
  {
   "cell_type": "code",
   "execution_count": 29,
   "metadata": {},
   "outputs": [],
   "source": [
    "# I am going to hand reassign these because \"0\" is its own category still\n",
    "label0_max = 3\n",
    "label1_max = 48.5\n",
    "label2_max = 13"
   ]
  },
  {
   "cell_type": "code",
   "execution_count": 30,
   "metadata": {},
   "outputs": [
    {
     "name": "stdout",
     "output_type": "stream",
     "text": [
      "0.51321986726611\n",
      "0.2338096767287519\n",
      "0.25297045600513807\n"
     ]
    }
   ],
   "source": [
    "# these are not ideal distributions obviously but the model should be able to learn still\n",
    "def query_df(df, lower, upper):\n",
    "    return df[((lower <= df['nightlights']) & (df['nightlights'] <= upper))]\n",
    "\n",
    "print(len(query_df(df_mod_download, 0, label0_max)) / len(df_mod_download))\n",
    "print(len(query_df(df_mod_download, label0_max, label2_max)) / len(df_mod_download))\n",
    "print(len(query_df(df_mod_download, label2_max, label1_max)) / len(df_mod_download))"
   ]
  },
  {
   "cell_type": "code",
   "execution_count": 31,
   "metadata": {},
   "outputs": [
    {
     "name": "stdout",
     "output_type": "stream",
     "text": [
      "[48.5, 13, 3]\n"
     ]
    },
    {
     "name": "stderr",
     "output_type": "stream",
     "text": [
      "/Users/Erik/opt/anaconda3/envs/gdal/lib/python3.7/site-packages/pandas/core/indexing.py:670: SettingWithCopyWarning: \n",
      "A value is trying to be set on a copy of a slice from a DataFrame\n",
      "\n",
      "See the caveats in the documentation: https://pandas.pydata.org/pandas-docs/stable/user_guide/indexing.html#returning-a-view-versus-a-copy\n",
      "  self._setitem_with_indexer(indexer, value)\n"
     ]
    }
   ],
   "source": [
    "def create_nightlights_bin(df, cutoffs):\n",
    "    assert len(cutoffs) >= 2, print('need at least 2 bins')\n",
    "    cutoffs = sorted(cutoffs, reverse=True)\n",
    "    print(cutoffs)\n",
    "    df['nightlights_bin'] = len(cutoffs)\n",
    "    for i in range(len(cutoffs)):\n",
    "        label = len(cutoffs) - i # highest nightlight gets value NUM_CLASS, lowest gets value 1\n",
    "        df['nightlights_bin'].loc[df['nightlights'] <= cutoffs[i]] = label\n",
    "\n",
    "df_download = df_mod_download.copy()\n",
    "create_nightlights_bin(df_download, cutoffs=[label0_max, label1_max, label2_max])"
   ]
  },
  {
   "cell_type": "code",
   "execution_count": 32,
   "metadata": {},
   "outputs": [
    {
     "data": {
      "text/plain": [
       "(0.51321986726611, 0.2338096767287519, 0.25297045600513807)"
      ]
     },
     "execution_count": 32,
     "metadata": {},
     "output_type": "execute_result"
    }
   ],
   "source": [
    "# these should match above\n",
    "(df_download['nightlights_bin']==1).mean(), (df_download['nightlights_bin']==2).mean(), (df_download['nightlights_bin']==3).mean()\n"
   ]
  },
  {
   "cell_type": "code",
   "execution_count": 33,
   "metadata": {},
   "outputs": [],
   "source": [
    "df_download['image_name'] = df_download['im_lat'].astype(str) + '_' + df_download['im_lon'].astype(str) + '.png'"
   ]
  },
  {
   "cell_type": "code",
   "execution_count": 34,
   "metadata": {},
   "outputs": [
    {
     "data": {
      "text/html": [
       "<div>\n",
       "<style scoped>\n",
       "    .dataframe tbody tr th:only-of-type {\n",
       "        vertical-align: middle;\n",
       "    }\n",
       "\n",
       "    .dataframe tbody tr th {\n",
       "        vertical-align: top;\n",
       "    }\n",
       "\n",
       "    .dataframe thead th {\n",
       "        text-align: right;\n",
       "    }\n",
       "</style>\n",
       "<table border=\"1\" class=\"dataframe\">\n",
       "  <thead>\n",
       "    <tr style=\"text-align: right;\">\n",
       "      <th></th>\n",
       "      <th>im_lat</th>\n",
       "      <th>im_lon</th>\n",
       "      <th>cluster_lat</th>\n",
       "      <th>cluster_lon</th>\n",
       "      <th>cons_pc</th>\n",
       "      <th>nightlights</th>\n",
       "      <th>nightlights_bin</th>\n",
       "      <th>image_name</th>\n",
       "    </tr>\n",
       "  </thead>\n",
       "  <tbody>\n",
       "    <tr>\n",
       "      <th>0</th>\n",
       "      <td>-17.075000</td>\n",
       "      <td>35.183332</td>\n",
       "      <td>-17.09515</td>\n",
       "      <td>35.217213</td>\n",
       "      <td>1.477796</td>\n",
       "      <td>0.0</td>\n",
       "      <td>1</td>\n",
       "      <td>-17.07499963170001_35.1833324726.png</td>\n",
       "    </tr>\n",
       "    <tr>\n",
       "      <th>1</th>\n",
       "      <td>-17.058333</td>\n",
       "      <td>35.191666</td>\n",
       "      <td>-17.09515</td>\n",
       "      <td>35.217213</td>\n",
       "      <td>1.477796</td>\n",
       "      <td>0.0</td>\n",
       "      <td>1</td>\n",
       "      <td>-17.058332965100007_35.191665805900016.png</td>\n",
       "    </tr>\n",
       "    <tr>\n",
       "      <th>2</th>\n",
       "      <td>-17.075000</td>\n",
       "      <td>35.191666</td>\n",
       "      <td>-17.09515</td>\n",
       "      <td>35.217213</td>\n",
       "      <td>1.477796</td>\n",
       "      <td>0.0</td>\n",
       "      <td>1</td>\n",
       "      <td>-17.07499963170001_35.191665805900016.png</td>\n",
       "    </tr>\n",
       "    <tr>\n",
       "      <th>3</th>\n",
       "      <td>-17.125000</td>\n",
       "      <td>35.199999</td>\n",
       "      <td>-17.09515</td>\n",
       "      <td>35.217213</td>\n",
       "      <td>1.477796</td>\n",
       "      <td>0.0</td>\n",
       "      <td>1</td>\n",
       "      <td>-17.124999631500014_35.1999991392.png</td>\n",
       "    </tr>\n",
       "    <tr>\n",
       "      <th>4</th>\n",
       "      <td>-17.075000</td>\n",
       "      <td>35.208332</td>\n",
       "      <td>-17.09515</td>\n",
       "      <td>35.217213</td>\n",
       "      <td>1.477796</td>\n",
       "      <td>0.0</td>\n",
       "      <td>1</td>\n",
       "      <td>-17.07499963170001_35.208332472500025.png</td>\n",
       "    </tr>\n",
       "  </tbody>\n",
       "</table>\n",
       "</div>"
      ],
      "text/plain": [
       "      im_lat     im_lon  cluster_lat  cluster_lon   cons_pc  nightlights  \\\n",
       "0 -17.075000  35.183332    -17.09515    35.217213  1.477796          0.0   \n",
       "1 -17.058333  35.191666    -17.09515    35.217213  1.477796          0.0   \n",
       "2 -17.075000  35.191666    -17.09515    35.217213  1.477796          0.0   \n",
       "3 -17.125000  35.199999    -17.09515    35.217213  1.477796          0.0   \n",
       "4 -17.075000  35.208332    -17.09515    35.217213  1.477796          0.0   \n",
       "\n",
       "   nightlights_bin                                  image_name  \n",
       "0                1        -17.07499963170001_35.1833324726.png  \n",
       "1                1  -17.058332965100007_35.191665805900016.png  \n",
       "2                1   -17.07499963170001_35.191665805900016.png  \n",
       "3                1       -17.124999631500014_35.1999991392.png  \n",
       "4                1   -17.07499963170001_35.208332472500025.png  "
      ]
     },
     "execution_count": 34,
     "metadata": {},
     "output_type": "execute_result"
    }
   ],
   "source": [
    "df_download.head()"
   ]
  },
  {
   "cell_type": "code",
   "execution_count": 35,
   "metadata": {},
   "outputs": [
    {
     "data": {
      "text/plain": [
       "(37368, 8)"
      ]
     },
     "execution_count": 35,
     "metadata": {},
     "output_type": "execute_result"
    }
   ],
   "source": [
    "df_download.shape"
   ]
  },
  {
   "cell_type": "code",
   "execution_count": 36,
   "metadata": {},
   "outputs": [],
   "source": [
    "df_download.to_csv(os.path.join(PROCESSED_DIR, 'image_download_locs.csv'), index=False)"
   ]
  },
  {
   "cell_type": "markdown",
   "metadata": {},
   "source": [
    "# Download Images\n",
    "If the script breaks, you can restart here by uncommenting the line below and running the below code again. It won't download images you have already downloaded."
   ]
  },
  {
   "cell_type": "code",
   "execution_count": 62,
   "metadata": {},
   "outputs": [],
   "source": [
    "df_download = pd.read_csv(os.path.join(PROCESSED_DIR, 'image_download_locs.csv'))"
   ]
  },
  {
   "cell_type": "code",
   "execution_count": 63,
   "metadata": {},
   "outputs": [
    {
     "data": {
      "text/plain": [
       "(20768, 8)"
      ]
     },
     "execution_count": 63,
     "metadata": {},
     "output_type": "execute_result"
    }
   ],
   "source": [
    "# there are some duplicates, there is no need to download those twice\n",
    "actual_download = df_download.drop_duplicates(['im_lat', 'im_lon'])\n",
    "actual_download.shape"
   ]
  },
  {
   "cell_type": "code",
   "execution_count": 64,
   "metadata": {},
   "outputs": [],
   "source": [
    "\"\"\"Interface for downloading aerial imagery from Google Static Maps API.\n",
    "- Get an API key at https://developers.google.com/maps/documentation/maps-static/intro\n",
    "\"\"\"\n",
    "class ImageryDownloader:\n",
    "    def __init__(self, access_token):\n",
    "        self.access_token = access_token\n",
    "        self.url = 'https://maps.googleapis.com/maps/api/staticmap?center={},{}&zoom={}&size=400x400&maptype=satellite&key={}'\n",
    "    \n",
    "    def download(self, lat, long, zoom):\n",
    "        res = requests.get(self.url.format(lat, long, zoom, self.access_token))\n",
    "        # server needs to make image available, takes a few seconds\n",
    "        if res.status_code == 403:\n",
    "            return 'RETRY'\n",
    "        assert res.status_code < 400, print(f'Error - failed to download {lat}, {long}, {zoom}')\n",
    "        image = plt.imread(BytesIO(res.content))\n",
    "        return image"
   ]
  },
  {
   "cell_type": "code",
   "execution_count": 65,
   "metadata": {},
   "outputs": [
    {
     "data": {
      "text/plain": [
       "<matplotlib.image.AxesImage at 0x13892f650>"
      ]
     },
     "execution_count": 65,
     "metadata": {},
     "output_type": "execute_result"
    },
    {
     "data": {
      "image/png": "[encoded data removed]",
      "text/plain": [
       "<Figure size 432x288 with 1 Axes>"
      ]
     },
     "metadata": {
      "needs_background": "light"
     },
     "output_type": "display_data"
    }
   ],
   "source": [
    "# this demonstrates the API call\n",
    "lat = 38.441332\n",
    "lon = -105.234751\n",
    "\n",
    "access = MAPS_ACCESS_TOKEN\n",
    "url = \"https://maps.googleapis.com/maps/api/staticmap?center={},{}&zoom=14&size=400x400&maptype=satellite&key={}\".format(lat, lon, access)\n",
    "res = requests.get(url)\n",
    "plt.imshow(plt.imread(BytesIO(res.content)))"
   ]
  },
  {
   "cell_type": "code",
   "execution_count": 66,
   "metadata": {},
   "outputs": [],
   "source": [
    "def download_images(df):\n",
    "    \"\"\"\n",
    "        Download images using a pandas DataFrame that has \"im_lat\", \"im_lon\", \"image_name\" as columns\n",
    "    \"\"\"\n",
    "    imd = ImageryDownloader(MAPS_ACCESS_TOKEN)\n",
    "    zoom = 16\n",
    "    NUM_RETRIES = 20\n",
    "    WAIT_TIME = 0.1 # seconds\n",
    "\n",
    "    # drops what is already downloaded\n",
    "    already_downloaded = os.listdir(IMAGE_DIR)\n",
    "    print('Already downloaded ' + str(len(already_downloaded)))\n",
    "    df = df.set_index('image_name').drop(already_downloaded).reset_index()\n",
    "    print('Need to download ' + str(len(df)))\n",
    "\n",
    "    for _, r in tqdm(df.iterrows(), total=df.shape[0]):\n",
    "        lat = r.im_lat\n",
    "        lon = r.im_lon\n",
    "        name = r.image_name\n",
    "        try:\n",
    "            im = imd.download(lat, lon, zoom)\n",
    "            if type(im) == str and im == 'RETRY':\n",
    "                resolved = False\n",
    "                for _ in range(NUM_RETRIES):\n",
    "                    time.sleep(WAIT_TIME)\n",
    "                    im = imd.download(lat, lon, zoom)\n",
    "                    if type(im) == str and im == 'RETRY':\n",
    "                        continue\n",
    "                    else:\n",
    "                        plt.imsave(os.path.join(IMAGE_DIR, name), im)\n",
    "                        resolved = True\n",
    "                        break\n",
    "                if not resolved:\n",
    "                    raise ValueError(f'Could not download {lat}, {lon}, {zoom} despite several retries and waiting')\n",
    "                else:\n",
    "                    pass\n",
    "            else:\n",
    "                # no issues, save according to naming convention\n",
    "                plt.imsave(os.path.join(IMAGE_DIR, name), im)\n",
    "\n",
    "        except Exception as e:\n",
    "            logging.error(f\"Error-could not download {lat}, {lon}, {zoom}\", exc_info=True)\n",
    "            break"
   ]
  },
  {
   "cell_type": "code",
   "execution_count": 67,
   "metadata": {},
   "outputs": [
    {
     "name": "stdout",
     "output_type": "stream",
     "text": [
      "Already downloaded 17583\n",
      "Need to download 3185\n"
     ]
    },
    {
     "data": {
      "application/vnd.jupyter.widget-view+json": {
       "model_id": "63463d64f61f4463ad460a36daacaed7",
       "version_major": 2,
       "version_minor": 0
      },
      "text/plain": [
       "HBox(children=(FloatProgress(value=0.0, max=3185.0), HTML(value='')))"
      ]
     },
     "metadata": {},
     "output_type": "display_data"
    },
    {
     "name": "stdout",
     "output_type": "stream",
     "text": [
      "\n"
     ]
    }
   ],
   "source": [
    "download_images(actual_download)"
   ]
  },
  {
   "cell_type": "code",
   "execution_count": null,
   "metadata": {},
   "outputs": [],
   "source": []
  }
 ],
 "metadata": {
  "kernelspec": {
   "display_name": "gdal",
   "language": "python",
   "name": "gdal"
  },
  "language_info": {
   "codemirror_mode": {
    "name": "ipython",
    "version": 3
   },
   "file_extension": ".py",
   "mimetype": "text/x-python",
   "name": "python",
   "nbconvert_exporter": "python",
   "pygments_lexer": "ipython3",
   "version": "3.7.6"
  }
 },
 "nbformat": 4,
 "nbformat_minor": 2
}
